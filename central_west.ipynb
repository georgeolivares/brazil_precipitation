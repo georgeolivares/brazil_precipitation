{
 "cells": [
  {
   "cell_type": "markdown",
   "metadata": {},
   "source": [
    "# Approach\n",
    "Size of dataset\\\n",
    "    *Amount of columns\\\n",
    "    *Number of rows\\\n",
    "Make sense of the columns and info. in each of them\\\n",
    "    *Modify column names from portuguese to english\\\n",
    "    *Data type: What it is vs What is should be\\\n",
    "What is the dataset about"
   ]
  },
  {
   "cell_type": "code",
   "execution_count": 1,
   "metadata": {},
   "outputs": [],
   "source": [
    "import pandas as pd\n",
    "import numpy as np\n",
    "import csv"
   ]
  },
  {
   "cell_type": "code",
   "execution_count": 3,
   "metadata": {},
   "outputs": [],
   "source": [
    "df = pd.read_csv(\"C:\\\\Users\\\\jorge\\\\Desktop\\\\Analysis\\\\central_west.csv\")"
   ]
  },
  {
   "cell_type": "markdown",
   "metadata": {},
   "source": [
    "# Rows and columns"
   ]
  },
  {
   "cell_type": "code",
   "execution_count": 4,
   "metadata": {},
   "outputs": [
    {
     "data": {
      "text/plain": [
       "(11427120, 27)"
      ]
     },
     "execution_count": 4,
     "metadata": {},
     "output_type": "execute_result"
    }
   ],
   "source": [
    "df.shape"
   ]
  },
  {
   "cell_type": "code",
   "execution_count": 6,
   "metadata": {},
   "outputs": [
    {
     "name": "stdout",
     "output_type": "stream",
     "text": [
      "Rows:  11427120\n"
     ]
    }
   ],
   "source": [
    "print('Rows: ', len(df))"
   ]
  },
  {
   "cell_type": "code",
   "execution_count": 7,
   "metadata": {},
   "outputs": [
    {
     "name": "stdout",
     "output_type": "stream",
     "text": [
      "Columns:  27\n"
     ]
    }
   ],
   "source": [
    "print('Columns: ', len(df.columns))"
   ]
  },
  {
   "cell_type": "code",
   "execution_count": 8,
   "metadata": {},
   "outputs": [
    {
     "data": {
      "text/plain": [
       "Index(['index', 'Data', 'Hora', 'PRECIPITAÇÃO TOTAL, HORÁRIO (mm)',\n",
       "       'PRESSAO ATMOSFERICA AO NIVEL DA ESTACAO, HORARIA (mB)',\n",
       "       'PRESSÃO ATMOSFERICA MAX.NA HORA ANT. (AUT) (mB)',\n",
       "       'PRESSÃO ATMOSFERICA MIN. NA HORA ANT. (AUT) (mB)',\n",
       "       'RADIACAO GLOBAL (Kj/m²)',\n",
       "       'TEMPERATURA DO AR - BULBO SECO, HORARIA (°C)',\n",
       "       'TEMPERATURA DO PONTO DE ORVALHO (°C)',\n",
       "       'TEMPERATURA MÁXIMA NA HORA ANT. (AUT) (°C)',\n",
       "       'TEMPERATURA MÍNIMA NA HORA ANT. (AUT) (°C)',\n",
       "       'TEMPERATURA ORVALHO MAX. NA HORA ANT. (AUT) (°C)',\n",
       "       'TEMPERATURA ORVALHO MIN. NA HORA ANT. (AUT) (°C)',\n",
       "       'UMIDADE REL. MAX. NA HORA ANT. (AUT) (%)',\n",
       "       'UMIDADE REL. MIN. NA HORA ANT. (AUT) (%)',\n",
       "       'UMIDADE RELATIVA DO AR, HORARIA (%)',\n",
       "       'VENTO, DIREÇÃO HORARIA (gr) (° (gr))', 'VENTO, RAJADA MAXIMA (m/s)',\n",
       "       'VENTO, VELOCIDADE HORARIA (m/s)', 'region', 'state', 'station',\n",
       "       'station_code', 'latitude', 'longitude', 'height'],\n",
       "      dtype='object')"
      ]
     },
     "execution_count": 8,
     "metadata": {},
     "output_type": "execute_result"
    }
   ],
   "source": [
    "df.columns"
   ]
  },
  {
   "cell_type": "markdown",
   "metadata": {},
   "source": [
    "# Modified column names"
   ]
  },
  {
   "cell_type": "code",
   "execution_count": 13,
   "metadata": {},
   "outputs": [],
   "source": [
    "columns_english = ['index', 'date', 'hour', 'total precipitation mm',\n",
    "'atmoshperic pressure at station height (mb)', 'atmospheric pressure max. in the previouse hour (mb)', \n",
    "'atmospheric pressure min. in the previouse hour (mb)', 'radiation (kj/m2)', \n",
    "'air temperature - dry bulb (celsius)', 'dew point temperature (celsius)', \n",
    "'max. temperature in the previous hour (celsius)', 'min. temperature in the previous hour (celsius)',\n",
    "'dew temperature max. in the previous hour (celsius)', 'dew temperature min. in the previous hour (celsius)', \n",
    "'relative humidity max. in the previous hour (%)', 'relative humidity min. in the previous hour (%)',\n",
    "'air relative humidity (%)', 'wind direction (gr)', 'wind rajada maxima (m/s)',\n",
    "'wind speed (m/s)', 'region', 'state', 'station', 'station_code', 'latitude',\n",
    "'longitude', 'height']\n",
    "\n",
    "df.columns = columns_english"
   ]
  },
  {
   "cell_type": "code",
   "execution_count": 14,
   "metadata": {},
   "outputs": [
    {
     "data": {
      "text/plain": [
       "Index(['index', 'date', 'hour', 'total precipitation mm',\n",
       "       'atmoshperic pressure at station height (mb)',\n",
       "       'atmospheric pressure max. in the previouse hour (mb)',\n",
       "       'atmospheric pressure min. in the previouse hour (mb)',\n",
       "       'radiation (kj/m2)', 'air temperature - dry bulb (celsius)',\n",
       "       'dew point temperature (celsius)',\n",
       "       'max. temperature in the previous hour (celsius)',\n",
       "       'min. temperature in the previous hour (celsius)',\n",
       "       'dew temperature max. in the previous hour (celsius)',\n",
       "       'dew temperature min. in the previous hour (celsius)',\n",
       "       'relative humidity max. in the previous hour (%)',\n",
       "       'relative humidity min. in the previous hour (%)',\n",
       "       'air relative humidity (%)', 'wind direction (gr)',\n",
       "       'wind rajada maxima (m/s)', 'wind speed (m/s)', 'region', 'state',\n",
       "       'station', 'station_code', 'latitude', 'longitude', 'height'],\n",
       "      dtype='object')"
      ]
     },
     "execution_count": 14,
     "metadata": {},
     "output_type": "execute_result"
    }
   ],
   "source": [
    "df.columns"
   ]
  },
  {
   "cell_type": "code",
   "execution_count": 15,
   "metadata": {},
   "outputs": [
    {
     "data": {
      "text/plain": [
       "index                                                     int64\n",
       "date                                                     object\n",
       "hour                                                     object\n",
       "total precipitation mm                                  float64\n",
       "atmoshperic pressure at station height (mb)             float64\n",
       "atmospheric pressure max. in the previouse hour (mb)    float64\n",
       "atmospheric pressure min. in the previouse hour (mb)    float64\n",
       "radiation (kj/m2)                                         int64\n",
       "air temperature - dry bulb (celsius)                    float64\n",
       "dew point temperature (celsius)                         float64\n",
       "max. temperature in the previous hour (celsius)         float64\n",
       "min. temperature in the previous hour (celsius)         float64\n",
       "dew temperature max. in the previous hour (celsius)     float64\n",
       "dew temperature min. in the previous hour (celsius)     float64\n",
       "relative humidity max. in the previous hour (%)           int64\n",
       "relative humidity min. in the previous hour (%)           int64\n",
       "air relative humidity (%)                                 int64\n",
       "wind direction (gr)                                       int64\n",
       "wind rajada maxima (m/s)                                float64\n",
       "wind speed (m/s)                                        float64\n",
       "region                                                   object\n",
       "state                                                    object\n",
       "station                                                  object\n",
       "station_code                                             object\n",
       "latitude                                                float64\n",
       "longitude                                               float64\n",
       "height                                                  float64\n",
       "dtype: object"
      ]
     },
     "execution_count": 15,
     "metadata": {},
     "output_type": "execute_result"
    }
   ],
   "source": [
    "df.dtypes"
   ]
  },
  {
   "cell_type": "code",
   "execution_count": 29,
   "metadata": {},
   "outputs": [
    {
     "data": {
      "text/html": [
       "<div>\n",
       "<style scoped>\n",
       "    .dataframe tbody tr th:only-of-type {\n",
       "        vertical-align: middle;\n",
       "    }\n",
       "\n",
       "    .dataframe tbody tr th {\n",
       "        vertical-align: top;\n",
       "    }\n",
       "\n",
       "    .dataframe thead th {\n",
       "        text-align: right;\n",
       "    }\n",
       "</style>\n",
       "<table border=\"1\" class=\"dataframe\">\n",
       "  <thead>\n",
       "    <tr style=\"text-align: right;\">\n",
       "      <th></th>\n",
       "      <th>index</th>\n",
       "      <th>date</th>\n",
       "      <th>hour</th>\n",
       "      <th>total precipitation mm</th>\n",
       "      <th>atmoshperic pressure at station height (mb)</th>\n",
       "      <th>atmospheric pressure max. in the previouse hour (mb)</th>\n",
       "      <th>atmospheric pressure min. in the previouse hour (mb)</th>\n",
       "      <th>radiation (kj/m2)</th>\n",
       "      <th>air temperature - dry bulb (celsius)</th>\n",
       "      <th>dew point temperature (celsius)</th>\n",
       "      <th>max. temperature in the previous hour (celsius)</th>\n",
       "      <th>min. temperature in the previous hour (celsius)</th>\n",
       "      <th>dew temperature max. in the previous hour (celsius)</th>\n",
       "      <th>dew temperature min. in the previous hour (celsius)</th>\n",
       "      <th>relative humidity max. in the previous hour (%)</th>\n",
       "    </tr>\n",
       "  </thead>\n",
       "  <tbody>\n",
       "    <tr>\n",
       "      <th>0</th>\n",
       "      <td>138998</td>\n",
       "      <td>2017-12-20</td>\n",
       "      <td>14:00</td>\n",
       "      <td>0.0</td>\n",
       "      <td>899.6</td>\n",
       "      <td>900.0</td>\n",
       "      <td>899.6</td>\n",
       "      <td>3391</td>\n",
       "      <td>26.5</td>\n",
       "      <td>17.7</td>\n",
       "      <td>26.5</td>\n",
       "      <td>24.4</td>\n",
       "      <td>18.3</td>\n",
       "      <td>16.5</td>\n",
       "      <td>65</td>\n",
       "    </tr>\n",
       "    <tr>\n",
       "      <th>1</th>\n",
       "      <td>138999</td>\n",
       "      <td>2017-12-20</td>\n",
       "      <td>15:00</td>\n",
       "      <td>0.0</td>\n",
       "      <td>899.2</td>\n",
       "      <td>899.6</td>\n",
       "      <td>899.2</td>\n",
       "      <td>3306</td>\n",
       "      <td>26.6</td>\n",
       "      <td>16.7</td>\n",
       "      <td>26.7</td>\n",
       "      <td>25.4</td>\n",
       "      <td>17.9</td>\n",
       "      <td>16.0</td>\n",
       "      <td>60</td>\n",
       "    </tr>\n",
       "  </tbody>\n",
       "</table>\n",
       "</div>"
      ],
      "text/plain": [
       "    index        date   hour  total precipitation mm  \\\n",
       "0  138998  2017-12-20  14:00                     0.0   \n",
       "1  138999  2017-12-20  15:00                     0.0   \n",
       "\n",
       "   atmoshperic pressure at station height (mb)  \\\n",
       "0                                        899.6   \n",
       "1                                        899.2   \n",
       "\n",
       "   atmospheric pressure max. in the previouse hour (mb)  \\\n",
       "0                                              900.0      \n",
       "1                                              899.6      \n",
       "\n",
       "   atmospheric pressure min. in the previouse hour (mb)  radiation (kj/m2)  \\\n",
       "0                                              899.6                  3391   \n",
       "1                                              899.2                  3306   \n",
       "\n",
       "   air temperature - dry bulb (celsius)  dew point temperature (celsius)  \\\n",
       "0                                  26.5                             17.7   \n",
       "1                                  26.6                             16.7   \n",
       "\n",
       "   max. temperature in the previous hour (celsius)  \\\n",
       "0                                             26.5   \n",
       "1                                             26.7   \n",
       "\n",
       "   min. temperature in the previous hour (celsius)  \\\n",
       "0                                             24.4   \n",
       "1                                             25.4   \n",
       "\n",
       "   dew temperature max. in the previous hour (celsius)  \\\n",
       "0                                               18.3     \n",
       "1                                               17.9     \n",
       "\n",
       "   dew temperature min. in the previous hour (celsius)  \\\n",
       "0                                               16.5     \n",
       "1                                               16.0     \n",
       "\n",
       "   relative humidity max. in the previous hour (%)  \n",
       "0                                               65  \n",
       "1                                               60  "
      ]
     },
     "execution_count": 29,
     "metadata": {},
     "output_type": "execute_result"
    }
   ],
   "source": [
    "df[df.columns[0:15]][0:2]"
   ]
  },
  {
   "cell_type": "code",
   "execution_count": 31,
   "metadata": {},
   "outputs": [
    {
     "data": {
      "text/html": [
       "<div>\n",
       "<style scoped>\n",
       "    .dataframe tbody tr th:only-of-type {\n",
       "        vertical-align: middle;\n",
       "    }\n",
       "\n",
       "    .dataframe tbody tr th {\n",
       "        vertical-align: top;\n",
       "    }\n",
       "\n",
       "    .dataframe thead th {\n",
       "        text-align: right;\n",
       "    }\n",
       "</style>\n",
       "<table border=\"1\" class=\"dataframe\">\n",
       "  <thead>\n",
       "    <tr style=\"text-align: right;\">\n",
       "      <th></th>\n",
       "      <th>relative humidity max. in the previous hour (%)</th>\n",
       "      <th>relative humidity min. in the previous hour (%)</th>\n",
       "      <th>air relative humidity (%)</th>\n",
       "      <th>wind direction (gr)</th>\n",
       "      <th>wind rajada maxima (m/s)</th>\n",
       "      <th>wind speed (m/s)</th>\n",
       "      <th>region</th>\n",
       "      <th>state</th>\n",
       "      <th>station</th>\n",
       "      <th>station_code</th>\n",
       "      <th>latitude</th>\n",
       "      <th>longitude</th>\n",
       "      <th>height</th>\n",
       "    </tr>\n",
       "  </thead>\n",
       "  <tbody>\n",
       "    <tr>\n",
       "      <th>0</th>\n",
       "      <td>65</td>\n",
       "      <td>57</td>\n",
       "      <td>59</td>\n",
       "      <td>39</td>\n",
       "      <td>9.6</td>\n",
       "      <td>3.9</td>\n",
       "      <td>CO</td>\n",
       "      <td>DF</td>\n",
       "      <td>PARANOA (COOPA-DF)</td>\n",
       "      <td>A047</td>\n",
       "      <td>-16.011111</td>\n",
       "      <td>-47.5575</td>\n",
       "      <td>1043.0</td>\n",
       "    </tr>\n",
       "    <tr>\n",
       "      <th>1</th>\n",
       "      <td>60</td>\n",
       "      <td>52</td>\n",
       "      <td>54</td>\n",
       "      <td>55</td>\n",
       "      <td>8.3</td>\n",
       "      <td>3.4</td>\n",
       "      <td>CO</td>\n",
       "      <td>DF</td>\n",
       "      <td>PARANOA (COOPA-DF)</td>\n",
       "      <td>A047</td>\n",
       "      <td>-16.011111</td>\n",
       "      <td>-47.5575</td>\n",
       "      <td>1043.0</td>\n",
       "    </tr>\n",
       "  </tbody>\n",
       "</table>\n",
       "</div>"
      ],
      "text/plain": [
       "   relative humidity max. in the previous hour (%)  \\\n",
       "0                                               65   \n",
       "1                                               60   \n",
       "\n",
       "   relative humidity min. in the previous hour (%)  air relative humidity (%)  \\\n",
       "0                                               57                         59   \n",
       "1                                               52                         54   \n",
       "\n",
       "   wind direction (gr)  wind rajada maxima (m/s)  wind speed (m/s) region  \\\n",
       "0                   39                       9.6               3.9     CO   \n",
       "1                   55                       8.3               3.4     CO   \n",
       "\n",
       "  state             station station_code   latitude  longitude  height  \n",
       "0    DF  PARANOA (COOPA-DF)         A047 -16.011111   -47.5575  1043.0  \n",
       "1    DF  PARANOA (COOPA-DF)         A047 -16.011111   -47.5575  1043.0  "
      ]
     },
     "execution_count": 31,
     "metadata": {},
     "output_type": "execute_result"
    }
   ],
   "source": [
    "df[df.columns[14:]][0:2]"
   ]
  }
 ],
 "metadata": {
  "interpreter": {
   "hash": "7d5c4801ed2f7111b96636c312e7b40cdf96baf0f798db38a95b8dd3c0de6eb6"
  },
  "kernelspec": {
   "display_name": "Python 3.9.7 ('base')",
   "language": "python",
   "name": "python3"
  },
  "language_info": {
   "codemirror_mode": {
    "name": "ipython",
    "version": 3
   },
   "file_extension": ".py",
   "mimetype": "text/x-python",
   "name": "python",
   "nbconvert_exporter": "python",
   "pygments_lexer": "ipython3",
   "version": "3.9.7"
  },
  "orig_nbformat": 4
 },
 "nbformat": 4,
 "nbformat_minor": 2
}
