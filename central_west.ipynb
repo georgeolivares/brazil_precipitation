{
 "cells": [
  {
   "cell_type": "markdown",
   "metadata": {},
   "source": [
    "# Approach\n",
    "Size of dataset\\\n",
    "    *Amount of columns\\\n",
    "    *Number of rows\\\n",
    "Make sense of the columns and info. in each of them\\\n",
    "    *Modify column names from portuguese to english\\\n",
    "    *Data type: What it is vs What is should be\\\n",
    "What is the dataset about"
   ]
  },
  {
   "cell_type": "code",
   "execution_count": 1,
   "metadata": {},
   "outputs": [],
   "source": [
    "import pandas as pd\n",
    "import numpy as np\n",
    "import csv"
   ]
  },
  {
   "cell_type": "code",
   "execution_count": 3,
   "metadata": {},
   "outputs": [],
   "source": [
    "df = pd.read_csv(\"C:\\\\Users\\\\jorge\\\\Desktop\\\\Analysis\\\\central_west.csv\")"
   ]
  },
  {
   "cell_type": "markdown",
   "metadata": {},
   "source": [
    "# Rows and columns"
   ]
  },
  {
   "cell_type": "code",
   "execution_count": 4,
   "metadata": {},
   "outputs": [
    {
     "data": {
      "text/plain": [
       "(11427120, 27)"
      ]
     },
     "execution_count": 4,
     "metadata": {},
     "output_type": "execute_result"
    }
   ],
   "source": [
    "df.shape"
   ]
  },
  {
   "cell_type": "code",
   "execution_count": 6,
   "metadata": {},
   "outputs": [
    {
     "name": "stdout",
     "output_type": "stream",
     "text": [
      "Rows:  11427120\n"
     ]
    }
   ],
   "source": [
    "print('Rows: ', len(df))"
   ]
  },
  {
   "cell_type": "code",
   "execution_count": 7,
   "metadata": {},
   "outputs": [
    {
     "name": "stdout",
     "output_type": "stream",
     "text": [
      "Columns:  27\n"
     ]
    }
   ],
   "source": [
    "print('Columns: ', len(df.columns))"
   ]
  },
  {
   "cell_type": "code",
   "execution_count": 8,
   "metadata": {},
   "outputs": [
    {
     "data": {
      "text/plain": [
       "Index(['index', 'Data', 'Hora', 'PRECIPITAÇÃO TOTAL, HORÁRIO (mm)',\n",
       "       'PRESSAO ATMOSFERICA AO NIVEL DA ESTACAO, HORARIA (mB)',\n",
       "       'PRESSÃO ATMOSFERICA MAX.NA HORA ANT. (AUT) (mB)',\n",
       "       'PRESSÃO ATMOSFERICA MIN. NA HORA ANT. (AUT) (mB)',\n",
       "       'RADIACAO GLOBAL (Kj/m²)',\n",
       "       'TEMPERATURA DO AR - BULBO SECO, HORARIA (°C)',\n",
       "       'TEMPERATURA DO PONTO DE ORVALHO (°C)',\n",
       "       'TEMPERATURA MÁXIMA NA HORA ANT. (AUT) (°C)',\n",
       "       'TEMPERATURA MÍNIMA NA HORA ANT. (AUT) (°C)',\n",
       "       'TEMPERATURA ORVALHO MAX. NA HORA ANT. (AUT) (°C)',\n",
       "       'TEMPERATURA ORVALHO MIN. NA HORA ANT. (AUT) (°C)',\n",
       "       'UMIDADE REL. MAX. NA HORA ANT. (AUT) (%)',\n",
       "       'UMIDADE REL. MIN. NA HORA ANT. (AUT) (%)',\n",
       "       'UMIDADE RELATIVA DO AR, HORARIA (%)',\n",
       "       'VENTO, DIREÇÃO HORARIA (gr) (° (gr))', 'VENTO, RAJADA MAXIMA (m/s)',\n",
       "       'VENTO, VELOCIDADE HORARIA (m/s)', 'region', 'state', 'station',\n",
       "       'station_code', 'latitude', 'longitude', 'height'],\n",
       "      dtype='object')"
      ]
     },
     "execution_count": 8,
     "metadata": {},
     "output_type": "execute_result"
    }
   ],
   "source": [
    "df.columns"
   ]
  },
  {
   "cell_type": "code",
   "execution_count": 10,
   "metadata": {},
   "outputs": [],
   "source": [
    "columns_english = ['index', 'date', 'hour', 'total precipitation mm',\n",
    "'atmoshperic pressure at station height (mb)', 'atmospheric pressure max. in the previouse hour (mb)', \n",
    "'atmospheric pressure min. in the previouse hour (mb)', 'radiation (kj/m2)', \n",
    "'air temperature - dry bulb (celsius)', 'dew point temperature (celsius)', \n",
    "'max. temperature in the previous hour (celsius)', 'min. temperature in the previous hour (celsius)',\n",
    "'dew temperature max. in the previous hour (celsius)', 'dew temperature min. in the previous hour (celsius)', \n",
    "'relative humidity max. in the previous hour (%)', 'relative humidity min. in the previous hour (%)',\n",
    "'air relative humidity (%)', 'wind direction (gr)', 'wind rajada maxima (m/s)',\n",
    "'wind speed (m/s)', 'region', 'state', 'station', 'station_code', 'latitude',\n",
    "'longitude', 'height']\n",
    "\n",
    "df.columns = columns_english"
   ]
  },
  {
   "cell_type": "code",
   "execution_count": 11,
   "metadata": {},
   "outputs": [
    {
     "data": {
      "text/plain": [
       "Index(['index', 'date', 'hour', 'total precipitation mm',\n",
       "       'atmoshperic pressure at station height (mb)',\n",
       "       'atmospheric pressure max. in the previouse hour (mb)',\n",
       "       'atmospheric pressure min. in the previouse hour (mb)',\n",
       "       'radiation (kj/m2)', 'air temperature - dry bulb (celsius)',\n",
       "       'dew point temperature (celsius)',\n",
       "       'max. temperature in the previous hour (celsius)',\n",
       "       'min. temperature in the previous hour (celsius)',\n",
       "       'dew temperature max. in the previous hour (celsius)',\n",
       "       'dew temperature min. in the previous hour (celsius)',\n",
       "       'relative humidity max. in the previous hour (%)',\n",
       "       'relative humidity min. in the previous hour (%)',\n",
       "       'air relative humidity (%)', 'wind direction (gr)',\n",
       "       'wind rajada maxima (m/s)', 'wind speed (m/s)', 'region', 'state',\n",
       "       'station', 'station_code', 'latitude', 'longitude', 'height'],\n",
       "      dtype='object')"
      ]
     },
     "execution_count": 11,
     "metadata": {},
     "output_type": "execute_result"
    }
   ],
   "source": [
    "df.columns"
   ]
  }
 ],
 "metadata": {
  "interpreter": {
   "hash": "7d5c4801ed2f7111b96636c312e7b40cdf96baf0f798db38a95b8dd3c0de6eb6"
  },
  "kernelspec": {
   "display_name": "Python 3.9.7 ('base')",
   "language": "python",
   "name": "python3"
  },
  "language_info": {
   "codemirror_mode": {
    "name": "ipython",
    "version": 3
   },
   "file_extension": ".py",
   "mimetype": "text/x-python",
   "name": "python",
   "nbconvert_exporter": "python",
   "pygments_lexer": "ipython3",
   "version": "3.9.7"
  },
  "orig_nbformat": 4
 },
 "nbformat": 4,
 "nbformat_minor": 2
}
